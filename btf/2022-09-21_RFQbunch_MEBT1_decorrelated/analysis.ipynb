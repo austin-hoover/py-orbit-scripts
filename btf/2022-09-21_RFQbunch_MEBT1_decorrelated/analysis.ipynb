{
 "cells": [
  {
   "cell_type": "markdown",
   "id": "5e7a588b-bee5-4738-be93-26e8ec1852a8",
   "metadata": {},
   "source": [
    "# 2022-09-21 analysis"
   ]
  },
  {
   "cell_type": "markdown",
   "id": "37f057b2-46e6-457e-8d1b-ed683c21ec18",
   "metadata": {},
   "source": [
    "This study examines the dependence of the x-y-z hollowing at HZ04 on the initial correlations in the bunch. The initial bunch was decorrelated by randomly permuting the (x, x'), (y, y'), (z, dE) pairs."
   ]
  },
  {
   "cell_type": "code",
   "execution_count": null,
   "id": "191f7176-fd50-443c-bbdc-5aacfcce6bd7",
   "metadata": {},
   "outputs": [],
   "source": [
    "import sys\n",
    "import os\n",
    "from tqdm.notebook import tqdm\n",
    "from tqdm.notebook import trange\n",
    "import importlib\n",
    "from pprint import pprint\n",
    "import numpy as np\n",
    "import pandas as pd\n",
    "import seaborn as sns\n",
    "import matplotlib.pyplot as plt\n",
    "import proplot as pplt\n",
    "from ipywidgets import widgets\n",
    "from ipywidgets import interactive\n",
    "\n",
    "sys.path.append('/Users/46h/Research/')\n",
    "from btfsim.analysis.utils import load_bunch\n",
    "from btfsim.analysis.utils import load_history\n",
    "from beamphys import plotting as mplt\n",
    "from beamphys import utils\n",
    "from beamphys import dist"
   ]
  },
  {
   "cell_type": "markdown",
   "id": "8eb3ff7e-abec-4bfd-a127-d17fca6d94fb",
   "metadata": {},
   "source": [
    "## Settings"
   ]
  },
  {
   "cell_type": "code",
   "execution_count": null,
   "id": "d8f663d3-b301-4222-948e-d5cc5c9329a1",
   "metadata": {},
   "outputs": [],
   "source": [
    "pplt.rc['grid'] = False\n",
    "pplt.rc['cmap.discrete'] = False\n",
    "pplt.rc['cmap.sequential'] = 'viridis'\n",
    "pplt.rc['figure.facecolor'] = 'white'\n",
    "pplt.rc['savefig.dpi'] = 300\n",
    "# pplt.rc['pdf.fonttype'] = 42"
   ]
  },
  {
   "cell_type": "code",
   "execution_count": null,
   "id": "e54477c2-a631-4e00-aa6c-a45c9a99c0e3",
   "metadata": {},
   "outputs": [],
   "source": [
    "folder = '/Users/46h/Dropbox (ORNL)/work/btf/btf-sim/2022-09-21_RFQbunch_MEBT1_decorrelated/'    \n",
    "os.listdir(folder)"
   ]
  },
  {
   "cell_type": "code",
   "execution_count": null,
   "id": "4cdad3e5-0d24-4fd3-ac5f-a7b23a1a558e",
   "metadata": {},
   "outputs": [],
   "source": [
    "fig_path = os.path.join(folder, 'figures')\n",
    "if not os.path.isdir(fig_path):\n",
    "    os.mkdir(fig_path)"
   ]
  },
  {
   "cell_type": "code",
   "execution_count": null,
   "id": "994c9f0d-2071-4976-9056-ae31bf7545be",
   "metadata": {},
   "outputs": [],
   "source": [
    "def save(figname):\n",
    "    plt.savefig(os.path.join(fig_path, f'{figname}.png'))\n",
    "    return"
   ]
  },
  {
   "cell_type": "markdown",
   "id": "854fec04-6d53-4f83-9a35-b174bb387758",
   "metadata": {},
   "source": [
    "## Load data"
   ]
  },
  {
   "cell_type": "code",
   "execution_count": null,
   "id": "8d1d721a-043b-4dc9-a20d-891bc0f34744",
   "metadata": {},
   "outputs": [],
   "source": [
    "prefix = '220921152418-run_btf-0-HZ04'\n",
    "nodes = ['init', 'QH01', 'QV02', 'QH03', 'QV04', 'HZ04']"
   ]
  },
  {
   "cell_type": "code",
   "execution_count": null,
   "id": "62b886de-1487-484c-906b-51fa87e0cdeb",
   "metadata": {},
   "outputs": [],
   "source": [
    "filenames = {'history': os.path.join(folder, f'{prefix}-history.dat')}\n",
    "filenames['bunch'] = dict()\n",
    "for node in nodes:\n",
    "    if node == 'init' or node == 'HZ04':\n",
    "        _filename = f'{prefix}-bunch-{node}.dat'\n",
    "    else:\n",
    "        _filename = f'{prefix}-bunch-MEBT:{node}.dat'\n",
    "    filenames['bunch'][node] = os.path.join(folder, _filename)\n",
    "pprint(filenames)"
   ]
  },
  {
   "cell_type": "markdown",
   "id": "d10dacf4-2938-43d4-ad8d-189078a21d8a",
   "metadata": {},
   "source": [
    "## History"
   ]
  },
  {
   "cell_type": "code",
   "execution_count": null,
   "id": "3c8c10b8-a0da-4a62-8c78-b2c646831ea9",
   "metadata": {},
   "outputs": [],
   "source": [
    "history = load_history(filenames['history'])\n",
    "history.head()"
   ]
  },
  {
   "cell_type": "code",
   "execution_count": null,
   "id": "eeda0b2f-9cc9-45cf-be7f-ead966c17c42",
   "metadata": {},
   "outputs": [],
   "source": [
    "fig_kws = dict(figsize=(2.75, 2))\n",
    "plot_kws = dict()"
   ]
  },
  {
   "cell_type": "code",
   "execution_count": null,
   "id": "a6670299-0858-4624-bb86-f8793aab71c9",
   "metadata": {},
   "outputs": [],
   "source": [
    "fig, ax = pplt.subplots(**fig_kws)\n",
    "for dim in ['x', 'y', 'z']:\n",
    "    data = history[f'eps_{dim}'].values\n",
    "    data /= data[0]\n",
    "    ax.plot(history['s'], data, label=r'$\\varepsilon_{}$'.format(dim), **plot_kws)\n",
    "ax.legend(ncol=1, loc='upper left', ms=3)\n",
    "ax.format(xlabel='Distance [m]', ylabel='Relative growth')\n",
    "save(f'relative_rms_emittance_growth')"
   ]
  },
  {
   "cell_type": "code",
   "execution_count": null,
   "id": "51b29fdf-2da3-4daa-b33b-db551857f0ed",
   "metadata": {},
   "outputs": [],
   "source": [
    "fig, ax = pplt.subplots(**fig_kws)\n",
    "for i, dim in enumerate(['x', 'y', 'z']):\n",
    "    i *= 2\n",
    "    col = f'sig_{i}{i}'\n",
    "    data = np.sqrt(history[col].values)\n",
    "    data *= 1e3  # convert [m] to [mm]\n",
    "    ax.plot(history['s'], data, label=r'${}$'.format(dim), **plot_kws)\n",
    "ax.legend(ncol=1, loc='upper left')\n",
    "ax.format(xlabel='Distance [m]', ylabel='RMS beam size [mm]')\n",
    "save(f'rms_beam_size')"
   ]
  },
  {
   "cell_type": "code",
   "execution_count": null,
   "id": "683c921b-24a1-45e5-b39d-2a9fd01f3392",
   "metadata": {},
   "outputs": [],
   "source": [
    "fig, axes = pplt.subplots(ncols=2, figsize=(5, 2), sharey=False)\n",
    "for ax, param in zip(axes, ['beta', 'alpha']):\n",
    "    for dim in ['x', 'y']:\n",
    "        col = f'{param}_{dim}'\n",
    "        xdata = history['s'].values\n",
    "        ydata = history[col].values\n",
    "        ax.plot(xdata, ydata, label=r'$\\{}_{}$'.format(param, dim))\n",
    "    ax.legend(ncol=1, loc='upper left', handlelength=1.5)\n",
    "axes.format(xlabel='Distance [m]')\n",
    "axes[0].format(ylabel='[m/rad]')\n",
    "save(f'twiss_beta_alpha')"
   ]
  },
  {
   "cell_type": "markdown",
   "id": "6f9d1d89-0a8f-476b-9ad0-cae148d4df27",
   "metadata": {},
   "source": [
    "## Bunch"
   ]
  },
  {
   "cell_type": "code",
   "execution_count": null,
   "id": "304e9574-a80a-4edc-af7f-6a873abd0d12",
   "metadata": {},
   "outputs": [],
   "source": [
    "dims = [\"x\", \"x'\", \"y\", \"y'\", \"z\", \"dE\"]\n",
    "units = [\"mm\", \"mrad\", \"mm\", \"mrad\", \"mm\", \"keV\"]\n",
    "labels = [f'{d} [{u}]' for d, u in zip(dims, units)]"
   ]
  },
  {
   "cell_type": "markdown",
   "id": "4ba60b60-d617-4b05-95c6-5ebf649e78a0",
   "metadata": {},
   "source": [
    "### Interactive"
   ]
  },
  {
   "cell_type": "code",
   "execution_count": null,
   "id": "59832832-5d28-46ea-9d14-c9f85f764e3d",
   "metadata": {},
   "outputs": [],
   "source": [
    "prof_kws=dict(lw=0.7, alpha=0.6, color='white', scale=0.09)\n",
    "\n",
    "mplt.interactive_proj2d_discrete(\n",
    "    load_bunch(filenames['bunch']['HZ04']),\n",
    "    nbins=40,\n",
    "    dims=dims,\n",
    "    units=units,\n",
    "    prof_kws=prof_kws,\n",
    ")"
   ]
  },
  {
   "cell_type": "markdown",
   "id": "96f9acf9-de5d-43c4-9c42-b7832c50e957",
   "metadata": {
    "tags": []
   },
   "source": [
    "### Sliced x-z distribution"
   ]
  },
  {
   "cell_type": "markdown",
   "id": "52dbc20c-12ca-4220-ad24-da67bbd93985",
   "metadata": {},
   "source": [
    "At each node in the lattice, plot the x-z distribution for the following slices: (i) full projection, (ii) $y \\approx 0$, (iii) $y \\approx y' \\approx 0$, (iv) $y \\approx y' \\approx x' \\approx 0$. We normalize the coordinates to unit variance in each plot."
   ]
  },
  {
   "cell_type": "code",
   "execution_count": null,
   "id": "49aed547-7d12-4035-86bd-7dd6ec11fc2b",
   "metadata": {
    "scrolled": true,
    "tags": []
   },
   "outputs": [],
   "source": [
    "bins = 40\n",
    "for node in nodes:\n",
    "    X = load_bunch(filenames['bunch'][node])\n",
    "    Sigma = np.cov(X.T)\n",
    "    X = X / np.sqrt(Sigma.diagonal())\n",
    "    \n",
    "    maxs = np.max(X, axis=0)\n",
    "    xlim = (-maxs[0], maxs[0])\n",
    "    ylim = (-maxs[4], maxs[4])\n",
    "    edges = [np.histogram_bin_edges(X[:, i], bins, (-maxs[i], maxs[i])) \n",
    "             for i in range(X.shape[1])]\n",
    "    slice_widths = [np.diff(e)[0] for e in edges]\n",
    "\n",
    "    fig, axes = pplt.subplots(ncols=2, nrows=2,  figwidth=4.0)\n",
    "    axes.format(xlim=xlim, ylim=ylim, xlabel='x [mm]', ylabel='z [mm]')\n",
    "    for ax, islice in zip(axes, [None, (2,), (2, 3), (2, 3, 1)]):\n",
    "        if islice is None:\n",
    "            _X = X\n",
    "        else:\n",
    "            _slice_widths = [slice_widths[i] for i in islice]\n",
    "            _X = dist.slice_box(X, axis=islice, limits=[(-w, w) for w in _slice_widths])\n",
    "        _im, _edges = np.histogramdd(_X[:, (0, 4)], bins, (xlim, ylim))\n",
    "        _centers = [utils.get_bin_centers(e) for e in _edges]\n",
    "        mplt.plot_image(\n",
    "            _im, \n",
    "            x=utils.get_bin_centers(_edges[0]), \n",
    "            y=utils.get_bin_centers(_edges[1]),\n",
    "            ax=ax,\n",
    "        )\n",
    "        if islice is None:\n",
    "            continue\n",
    "        dims_n = [r\"{}$_n$\".format(dim) for dim in dims]\n",
    "        text = r'$\\approx$'.join([dims_n[i] for i in islice]) + r'$\\approx 0$'\n",
    "        ax.annotate(text, xy=(0.02, 0.98), xycoords='axes fraction', verticalalignment='top',\n",
    "                    color='white')\n",
    "    figname = f'x-z_slices_{node}_norm'\n",
    "    save(figname)"
   ]
  },
  {
   "cell_type": "markdown",
   "id": "edf4303d-057d-47c2-b0d0-3cfe44a7f1a0",
   "metadata": {
    "tags": []
   },
   "source": [
    "### Corner"
   ]
  },
  {
   "cell_type": "code",
   "execution_count": null,
   "id": "420e09f4-2986-4b3b-acbe-5090c27f3e1b",
   "metadata": {},
   "outputs": [],
   "source": [
    "cmap = pplt.Colormap('mono', left=0.065, right=0.9)\n",
    "cmap"
   ]
  },
  {
   "cell_type": "code",
   "execution_count": null,
   "id": "d5d0428d-b650-4a2c-a4f9-4af58a995bae",
   "metadata": {
    "scrolled": true,
    "tags": []
   },
   "outputs": [],
   "source": [
    "for node in nodes:\n",
    "    axes = mplt.corner(\n",
    "        load_bunch(filenames['bunch'][node]), \n",
    "        labels=labels, kind='hist',\n",
    "        mask_zero=True,\n",
    "        cmap=cmap,\n",
    "    )\n",
    "    axes.format(xlabel_kw=dict(fontsize='large'), ylabel_kw=dict(fontsize='large'))\n",
    "    save(f'corner_{node}')"
   ]
  },
  {
   "cell_type": "code",
   "execution_count": null,
   "id": "eb12c010-65ef-432c-b527-fb0804fc034c",
   "metadata": {},
   "outputs": [],
   "source": []
  }
 ],
 "metadata": {
  "kernelspec": {
   "display_name": "Python 3 (ipykernel)",
   "language": "python",
   "name": "python3"
  },
  "language_info": {
   "codemirror_mode": {
    "name": "ipython",
    "version": 3
   },
   "file_extension": ".py",
   "mimetype": "text/x-python",
   "name": "python",
   "nbconvert_exporter": "python",
   "pygments_lexer": "ipython3",
   "version": "3.9.12"
  },
  "toc-autonumbering": true,
  "toc-showtags": false
 },
 "nbformat": 4,
 "nbformat_minor": 5
}
