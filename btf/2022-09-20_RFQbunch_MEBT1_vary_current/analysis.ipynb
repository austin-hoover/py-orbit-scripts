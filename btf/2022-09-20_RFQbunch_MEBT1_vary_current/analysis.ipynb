{
 "cells": [
  {
   "cell_type": "markdown",
   "id": "5e7a588b-bee5-4738-be93-26e8ec1852a8",
   "metadata": {},
   "source": [
    "# 2022-09-20 analysis"
   ]
  },
  {
   "cell_type": "markdown",
   "id": "704ba317-ffa7-4fcf-80a9-a759fe108c19",
   "metadata": {},
   "source": [
    "We see longitudinal and transverse hollowing in our measurements at slit HZ04, 1.4 meters downstream of the RFQ. This notebook explores the dependence of these features on space charge. The initial bunch was generated from an RFQ simulation described [here](https://journals.aps.org/prab/pdf/10.1103/PhysRevAccelBeams.23.124201). The current was 42 mA at the RFQ exit; the current was artificially lowered in the following simulations."
   ]
  },
  {
   "cell_type": "code",
   "execution_count": null,
   "id": "191f7176-fd50-443c-bbdc-5aacfcce6bd7",
   "metadata": {},
   "outputs": [],
   "source": [
    "import sys\n",
    "import os\n",
    "from tqdm.notebook import tqdm\n",
    "from tqdm.notebook import trange\n",
    "from pprint import pprint\n",
    "import importlib\n",
    "import numpy as np\n",
    "import pandas as pd\n",
    "import seaborn as sns\n",
    "import matplotlib.pyplot as plt\n",
    "import proplot as pplt\n",
    "from ipywidgets import widgets\n",
    "from ipywidgets import interactive\n",
    "\n",
    "sys.path.append('/Users/46h/Research/')\n",
    "from btfsim.analysis.utils import load_bunch\n",
    "from btfsim.analysis.utils import load_history\n",
    "from beamphys import plotting as mplt\n",
    "from beamphys import utils\n",
    "from beamphys import dist as bd\n",
    "from beamphys import image as bi\n",
    "from beamphys import ap"
   ]
  },
  {
   "cell_type": "markdown",
   "id": "1a5daf58-08e0-4d45-bcc3-abf9775189aa",
   "metadata": {},
   "source": [
    "## Settings"
   ]
  },
  {
   "cell_type": "code",
   "execution_count": null,
   "id": "d8f663d3-b301-4222-948e-d5cc5c9329a1",
   "metadata": {},
   "outputs": [],
   "source": [
    "pplt.rc['grid'] = False\n",
    "pplt.rc['cmap.discrete'] = False\n",
    "pplt.rc['cmap.sequential'] = 'viridis'\n",
    "pplt.rc['figure.facecolor'] = 'white'\n",
    "pplt.rc['savefig.dpi'] = 300\n",
    "# pplt.rc['pdf.fonttype'] = 42"
   ]
  },
  {
   "cell_type": "code",
   "execution_count": null,
   "id": "8a778f8f-8bab-4fc1-b76f-abebf56138c4",
   "metadata": {},
   "outputs": [],
   "source": [
    "folder = '/Users/46h/Dropbox (ORNL)/work/btf/btf-sim/2022-09-20_RFQbunch_MEBT1_vary_current/'\n",
    "os.listdir(folder)"
   ]
  },
  {
   "cell_type": "code",
   "execution_count": null,
   "id": "4cdad3e5-0d24-4fd3-ac5f-a7b23a1a558e",
   "metadata": {},
   "outputs": [],
   "source": [
    "fig_path = os.path.join(folder, 'figures')\n",
    "if not os.path.isdir(fig_path):\n",
    "    os.mkdir(fig_path)"
   ]
  },
  {
   "cell_type": "code",
   "execution_count": null,
   "id": "994c9f0d-2071-4976-9056-ae31bf7545be",
   "metadata": {},
   "outputs": [],
   "source": [
    "def save(figname):\n",
    "    \"\"\"Save figure.\"\"\"\n",
    "    plt.savefig(os.path.join(fig_path, f'{figname}.png'))\n",
    "    return"
   ]
  },
  {
   "cell_type": "markdown",
   "id": "854fec04-6d53-4f83-9a35-b174bb387758",
   "metadata": {},
   "source": [
    "## Load data"
   ]
  },
  {
   "cell_type": "code",
   "execution_count": null,
   "id": "d8c54d80-dd12-4a15-9957-6e47a8a4ed3b",
   "metadata": {},
   "outputs": [],
   "source": [
    "currents = [0, 26, 50]\n",
    "currents_str = [f'{c}mA' for c in currents]"
   ]
  },
  {
   "cell_type": "code",
   "execution_count": null,
   "id": "f8efbd25",
   "metadata": {},
   "outputs": [],
   "source": [
    "filenames = dict()\n",
    "for current in currents_str:\n",
    "    filenames[current] = dict()\n",
    "    _folder = os.path.join(folder, current)\n",
    "    for _filename in os.listdir(_folder):\n",
    "        if _filename.endswith('.py'):\n",
    "            continue\n",
    "        if _filename.split('.dat')[0].endswith('history'):\n",
    "            filenames[current]['history'] = os.path.join(_folder, _filename)\n",
    "        elif 'bunch' in _filename:\n",
    "            node = _filename.split('.dat')[0].split('bunch-')[-1]\n",
    "            if node.startswith('MEBT:'):\n",
    "                node = node.split('MEBT:')[-1]\n",
    "            filenames[current][node] = os.path.join(_folder, _filename)\n",
    "        else:\n",
    "            pass\n",
    "        \n",
    "print('filenames:')\n",
    "pprint(filenames)"
   ]
  },
  {
   "cell_type": "markdown",
   "id": "21455797-43d2-4817-bd3f-f1cf892058f1",
   "metadata": {},
   "source": [
    "## History "
   ]
  },
  {
   "cell_type": "code",
   "execution_count": null,
   "id": "d98dfb60-43cd-4256-9a14-434d86bbb7cc",
   "metadata": {},
   "outputs": [],
   "source": [
    "fig_kws = dict(\n",
    "    ncols=len(filenames),\n",
    "    figwidth=(6.0 / 3.0) * len(currents),\n",
    "    figheight=2.25,\n",
    ")\n",
    "plot_kws = dict(marker='.', ms=1, lw=0, alpha=1.0)"
   ]
  },
  {
   "cell_type": "code",
   "execution_count": null,
   "id": "326898e9-50f6-421b-94c3-0a9d23575309",
   "metadata": {},
   "outputs": [],
   "source": [
    "pprint(sorted(load_history(filenames[currents_str[0]]['history']).columns))"
   ]
  },
  {
   "cell_type": "code",
   "execution_count": null,
   "id": "41fd46d5-b0c6-4cea-afda-756d1ad3570e",
   "metadata": {},
   "outputs": [],
   "source": [
    "fig, axes = pplt.subplots(**fig_kws)\n",
    "for ax, current in zip(axes, currents_str):\n",
    "    history = load_history(filenames[current]['history'])\n",
    "    for dim in ['x', 'y', 'z']:\n",
    "        data = history[f'eps_{dim}'].values\n",
    "        ax.plot(history['s'], data / data[0], label=r'$\\varepsilon_{}$'.format(dim))\n",
    "axes[0].legend(ncol=1, loc='upper left', ms=3, handlelength=1.5)\n",
    "axes.format(xlabel='Distance [m]', ylabel='Relative growth', toplabels=currents_str)\n",
    "save('relative_rms_emittance_growth')\n",
    "plt.show()"
   ]
  },
  {
   "cell_type": "code",
   "execution_count": null,
   "id": "0002f25f-7761-4bfc-b8e0-074e27184a74",
   "metadata": {
    "scrolled": true
   },
   "outputs": [],
   "source": [
    "fig, axes = pplt.subplots(**fig_kws)\n",
    "for ax, current in zip(axes, currents_str):\n",
    "    history = load_history(filenames[current]['history'])\n",
    "    for i, dim in enumerate(['x', 'y', 'z']):\n",
    "        i *= 2\n",
    "        col = f'sig_{i}{i}'\n",
    "        data = np.sqrt(history[col].values)\n",
    "        data *= 1e3  # convert [m] to [mm]\n",
    "        ax.plot(history['s'], data, label=r'${}$'.format(dim))\n",
    "axes[0].legend(ncol=1, loc='upper left', handlelength=1.5)\n",
    "axes.format(xlabel='Distance [m]', ylabel='RMS size [mm]', toplabels=currents_str)\n",
    "save('rms_beam_size')\n",
    "plt.show()"
   ]
  },
  {
   "cell_type": "markdown",
   "id": "6f9d1d89-0a8f-476b-9ad0-cae148d4df27",
   "metadata": {},
   "source": [
    "## Bunch "
   ]
  },
  {
   "cell_type": "code",
   "execution_count": null,
   "id": "06008a66-c056-4ec9-8d24-3e222a6657ff",
   "metadata": {},
   "outputs": [],
   "source": [
    "dims = [\"x\", \"x'\", \"y\", \"y'\", \"z\", \"dE\"]\n",
    "units = [\"mm\", \"mrad\", \"mm\", \"mrad\", \"mm\", \"keV\"]\n",
    "labels = [f'{d} [{u}]' for d, u in zip(dims, units)]\n",
    "nodes = ['init', 'QH01', 'QV02', 'QH03', 'QV04', 'HZ04']"
   ]
  },
  {
   "cell_type": "markdown",
   "id": "a68179b1-b8e3-4eea-9eb5-34fb30df6665",
   "metadata": {},
   "source": [
    "### Interactive "
   ]
  },
  {
   "cell_type": "code",
   "execution_count": null,
   "id": "373c7237-bb58-4dc5-bcf6-679b2988ac13",
   "metadata": {},
   "outputs": [],
   "source": [
    "plot_kws = dict(\n",
    "    prof_kws=dict(lw=0.8, alpha=0.4, color='white'),\n",
    "    mask_zero=False,\n",
    ")\n",
    "int_kws = dict(\n",
    "    dims=dims,\n",
    "    units=units,\n",
    "    nbins=40,\n",
    "    **plot_kws\n",
    ")"
   ]
  },
  {
   "cell_type": "code",
   "execution_count": null,
   "id": "1ed6b10e-c2d8-4e09-a282-22b1b84804a3",
   "metadata": {},
   "outputs": [],
   "source": [
    "node = 'HZ04'\n",
    "for current in currents_str[-1:]:\n",
    "    print(f'current = {current}')\n",
    "    gui = mplt.interactive_proj2d_discrete(\n",
    "        load_bunch(filenames[current][node]),\n",
    "        **int_kws\n",
    "    )\n",
    "    display(gui)"
   ]
  },
  {
   "cell_type": "markdown",
   "id": "1f057db7-723b-4410-bf6f-84cc8dfbfbc8",
   "metadata": {},
   "source": [
    "### x-z partial projections"
   ]
  },
  {
   "cell_type": "markdown",
   "id": "193507da-bb47-496d-9576-d6122a39f88e",
   "metadata": {},
   "source": [
    "View the x-z projection of the distribution sliced in y, y', x'. Normalize to unit variance in all dimensions."
   ]
  },
  {
   "cell_type": "code",
   "execution_count": null,
   "id": "95ddccb0-f119-4a2f-8b84-d433a6bec03b",
   "metadata": {
    "scrolled": true,
    "tags": []
   },
   "outputs": [],
   "source": [
    "for current in currents_str:\n",
    "    for node in nodes:\n",
    "        # Load the bunch and normalize the coordinates.\n",
    "        X = np.copy(load_bunch(filenames[current][node]))\n",
    "        Sigma = np.cov(X.T)\n",
    "        X = X / np.sqrt(Sigma.diagonal())\n",
    "        maxs = np.max(X, axis=0)\n",
    "        \n",
    "        # Compute the slice width.\n",
    "        bins = 40\n",
    "        edges = [np.histogram_bin_edges(X[:, i], bins=bins) for i in range(X.shape[1])]\n",
    "        dx = [np.diff(e)[0] for e in edges]\n",
    "        \n",
    "        # Plot\n",
    "        fig, axes = pplt.subplots(ncols=2, nrows=2,  figwidth=4.0)\n",
    "        axes.format(\n",
    "            xlim=(-maxs[0], maxs[0]), \n",
    "            ylim=(-maxs[4], maxs[4]),\n",
    "        )\n",
    "        for ax, islice in zip(axes, [None, (2,), (2, 3), (2, 3, 1)]):\n",
    "            if islice is None:\n",
    "                _X = X\n",
    "            else:\n",
    "                _limits = [(-dx[i], dx[i]) for i in islice]\n",
    "                _X = bd.slice_box(X, axis=islice, limits=_limits)\n",
    "            _im, _edges = np.histogramdd(_X[:, (0, 4)], bins, ((-maxs[0], maxs[0]), (-maxs[4], maxs[4])))\n",
    "            _centers = [utils.get_bin_centers(e) for e in _edges]\n",
    "            mplt.plot_image(_im, x=_centers[0], y=_centers[1], ax=ax)\n",
    "            if islice is None:\n",
    "                continue\n",
    "            dims_n = [r\"{}$_n$\".format(dim) for dim in dims]\n",
    "            text = r'$\\approx$'.join([dims_n[i] for i in islice]) + r'$\\approx 0$'\n",
    "            ax.annotate(text, xy=(0.02, 0.98), xycoords='axes fraction', verticalalignment='top',\n",
    "                        color='white')\n",
    "        axes.format(xlabel=r'x$_n$', ylabel=r'z$_n$')\n",
    "        save('x-z_slices_{}_{}_norm'.format(current, node))"
   ]
  },
  {
   "cell_type": "markdown",
   "id": "038bdeb6-263e-43a5-913f-842e830ec664",
   "metadata": {},
   "source": [
    "### x-y-z "
   ]
  },
  {
   "cell_type": "markdown",
   "id": "c08ba2fa-cd70-4a81-aae0-7ce2583c05fd",
   "metadata": {},
   "source": [
    "#### Investigation of phase advances..."
   ]
  },
  {
   "cell_type": "markdown",
   "id": "08aae09e-6f38-4887-9fed-6f4e147c7418",
   "metadata": {},
   "source": [
    "What about projections at a different angle in x-x' and y-y'? I know that the hollow x projection is due to nonlinear tails — \"s\" shape — in the x-x' phase space, but the x-x' distribution is rotated at different angles at different points along the beamline. What if we project onto the u and v axes, where $(u, u')^T = R (x, x')^T$ and $(v, v')^T = R (y, y')^T$?"
   ]
  },
  {
   "cell_type": "code",
   "execution_count": null,
   "id": "2719c290-2b12-41a8-83a7-356ce9831d34",
   "metadata": {},
   "outputs": [],
   "source": [
    "current = '50mA'\n",
    "node = 'HZ04'\n",
    "X = load_bunch(filenames[current][node])"
   ]
  },
  {
   "cell_type": "markdown",
   "id": "750b9cf1-ec69-4173-99ba-91f043327fc2",
   "metadata": {},
   "source": [
    "First normalize the x-x' and y-y' phase space."
   ]
  },
  {
   "cell_type": "code",
   "execution_count": null,
   "id": "1d5736c1-a5d2-4999-a41a-834029dfcc84",
   "metadata": {},
   "outputs": [],
   "source": [
    "Sigma = np.cov(X.T)\n",
    "twiss_params = ap.twiss(Sigma)\n",
    "emittances = ap.apparent_emittances(Sigma)\n",
    "\n",
    "V = ap.norm_mat(*twiss_params)\n",
    "A = np.sqrt(np.diag(np.repeat(emittances, 2)))\n",
    "T = np.matmul(A, V)\n",
    "Vinv = np.linalg.inv(V)\n",
    "Ainv = np.linalg.inv(A)\n",
    "Tinv = np.linalg.inv(T)"
   ]
  },
  {
   "cell_type": "code",
   "execution_count": null,
   "id": "1b3a4e62-8ea1-4d08-8263-a4333a5dad68",
   "metadata": {},
   "outputs": [],
   "source": [
    "Xn = utils.apply(Tinv, X)"
   ]
  },
  {
   "cell_type": "markdown",
   "id": "13ef3d06-8b50-43ad-88c6-c0afce2573b8",
   "metadata": {},
   "source": [
    "Rotate the normalized x-x' and y-y' (near z=0) and look at the projections."
   ]
  },
  {
   "cell_type": "code",
   "execution_count": null,
   "id": "b278d374-11b9-4bed-a134-bb2d1d96409a",
   "metadata": {},
   "outputs": [],
   "source": [
    "# mux = np.radians(12.0)\n",
    "# muy = np.radians(0.0)\n",
    "# P = ap.phase_adv_mat(mux, muy)\n",
    "# Yn = Xn.copy()\n",
    "# Yn[:, :4] = utils.apply(P, Yn[:, :4])\n",
    "# mplt.interactive_proj2d_discrete(Yn, nbins=40, dims=[\"u\", \"u'\", \"v\", \"v'\", \"z_n\", \"dE_n\"])"
   ]
  },
  {
   "cell_type": "code",
   "execution_count": null,
   "id": "7217d716-2c23-442f-8f61-70e938b5e4f9",
   "metadata": {},
   "outputs": [],
   "source": [
    "Xn_zslice = bd.slice_box(Xn, axis=4, limits=(-0.1, 0.1))\n",
    "\n",
    "ncols = 8\n",
    "muxx = np.radians(np.linspace(0.0, 45.0, 8))\n",
    "axis_view = (0, 2)\n",
    "dims_u = [\"x\", \"x'\", \"y\", \"y'\", \"z\", \"dE\"]\n",
    "maxs = [3.5, 5.0, 3.5, 5.0]"
   ]
  },
  {
   "cell_type": "code",
   "execution_count": null,
   "id": "15c98193-8e9d-49e0-accf-65112355b707",
   "metadata": {},
   "outputs": [],
   "source": [
    "fig, axes = pplt.subplots(nrows=2, ncols=ncols, figwidth=8.5, span=False)\n",
    "axes.format(xticks=[], yticks=[])\n",
    "for j, mux in enumerate(muxx):\n",
    "    Yn = Xn_zslice.copy()\n",
    "    Yn[:, :2] = utils.apply(ap.rotation_mat(mux), Yn[:, :2])\n",
    "    for i, axis_view in enumerate([(0, 1), (0, 2)]):\n",
    "        ax = axes[i, j]\n",
    "        image, centers = bd.histogram(\n",
    "            Yn[:, axis_view], bins=75,\n",
    "            binrange=[\n",
    "                (-maxs[axis_view[0]], maxs[axis_view[0]]),\n",
    "                (-maxs[axis_view[1]], maxs[axis_view[1]]),\n",
    "            ], \n",
    "            centers=True,\n",
    "        )\n",
    "        mplt.plot_image(\n",
    "            image, \n",
    "            x=centers[0], \n",
    "            y=centers[1], \n",
    "            ax=ax,\n",
    "            profx=True, profy=True, prof_kws=dict(lw=0.65, alpha=0.7, kind='line'),\n",
    "        )\n",
    "        axes[i, :].format(xlabel=dims_u[axis_view[0]], ylabel=dims_u[axis_view[1]])\n",
    "    axes[0, j].format(title=r\"$\\mu_x = {:.2f}\\degree$\".format(np.degrees(mux)))\n",
    "save(f'norm_xxp_rotation_{current}_{node}')\n",
    "plt.show()"
   ]
  },
  {
   "cell_type": "code",
   "execution_count": null,
   "id": "3822f8aa-dcbc-4255-849e-059be9c6d1aa",
   "metadata": {},
   "outputs": [],
   "source": [
    "muyy = np.radians(np.linspace(0.0, 45.0, 8))\n",
    "axis_view = (0, 2)\n",
    "dims_u = [\"x\", \"x'\", \"y\", \"y'\", \"z\", \"dE\"]\n",
    "maxs = [3.5, 5.0, 3.5, 5.0]\n",
    "\n",
    "fig, axes = pplt.subplots(nrows=2, ncols=ncols, figwidth=8.5, span=False)\n",
    "axes.format(xticks=[], yticks=[])\n",
    "for j, muy in enumerate(muyy):\n",
    "    Yn = Xn_zslice.copy()\n",
    "    Yn[:, 2:4] = utils.apply(ap.rotation_mat(muy), Yn[:, 2:4])\n",
    "    for i, axis_view in enumerate([(2, 3), (2, 0)]):\n",
    "        ax = axes[i, j]\n",
    "        image, centers = bd.histogram(\n",
    "            Yn[:, axis_view], bins=75,\n",
    "            binrange=[\n",
    "                (-maxs[axis_view[0]], maxs[axis_view[0]]),\n",
    "                (-maxs[axis_view[1]], maxs[axis_view[1]]),\n",
    "            ], \n",
    "            centers=True,\n",
    "        )\n",
    "        mplt.plot_image(\n",
    "            image, \n",
    "            x=centers[0], \n",
    "            y=centers[1], \n",
    "            ax=ax,\n",
    "            profx=True, profy=True, prof_kws=dict(lw=0.65, alpha=0.7, kind='line'),\n",
    "        )\n",
    "        axes[i, :].format(xlabel=dims_u[axis_view[0]], ylabel=dims_u[axis_view[1]])\n",
    "    axes[0, j].format(title=r\"$\\mu_y = {:.2f}\\degree$\".format(np.degrees(muy)))\n",
    "save(f'norm_yyp_rotation_{current}_{node}')\n",
    "plt.show()"
   ]
  },
  {
   "cell_type": "markdown",
   "id": "669e9604-a1db-4eb5-925d-9704a32d212d",
   "metadata": {},
   "source": [
    "#### 4D phase space at z=0 "
   ]
  },
  {
   "cell_type": "code",
   "execution_count": null,
   "id": "80c84cc0-8ee3-4087-bfe1-e8432f0c46e4",
   "metadata": {},
   "outputs": [],
   "source": [
    "Xn_zslice = bd.slice_box(Xn, axis=4, limits=(-0.3, 0.3))\n",
    "Xn_zslice.shape"
   ]
  },
  {
   "cell_type": "code",
   "execution_count": null,
   "id": "f91cb38f-6420-4e5d-8480-69173a246136",
   "metadata": {},
   "outputs": [],
   "source": [
    "axis_view = (0, 1)\n",
    "axis_slice = (2, 3)\n",
    "n = 13\n",
    "slice_width = 5.0/n  # transverse slice width in normalized coordinates\n",
    "\n",
    "limits = mplt.auto_limits(Xn_zslice, zero_center=True)\n",
    "nrows = ncols = n\n",
    "pads = [0. * max(lim) for lim in limits]\n",
    "coords = [np.linspace(umin + pad, umax - pad, n) for (umin, umax), pad in zip(limits, pads)]\n",
    "\n",
    "plot_kws = dict(\n",
    "    # profx=True, profy=True, prof_kws=dict(lw=0.4, alpha=0.5, kind='line'),\n",
    ")\n",
    "\n",
    "space = 0.35\n",
    "hspace = nrows * [space]\n",
    "wspace = ncols * [space]\n",
    "hspace[-1] = wspace[-1] = 5.0 * space\n",
    "fig, axes = pplt.subplots(\n",
    "    ncols=ncols+1, nrows=nrows+1, figwidth=8.5,\n",
    "    hspace=hspace, wspace=wspace,\n",
    "    share=False,\n",
    "    xticks=[], yticks=[],\n",
    ")\n",
    "for i in range(nrows):\n",
    "    for j in range(ncols):\n",
    "        ax = axes[i, j]\n",
    "        center = [coords[axis_slice[0]][j], coords[axis_slice[1]][~i]]\n",
    "        XXP = bd.slice_box(\n",
    "            Xn_zslice, axis=axis_slice,\n",
    "            limits=[\n",
    "                (center[0] - 0.5 * slice_width, center[0] + 0.5 * slice_width),\n",
    "                (center[1] - 0.5 * slice_width, center[1] + 0.5 * slice_width),\n",
    "            ]\n",
    "        )\n",
    "        image, centers = bd.histogram(XXP[:, (0, 1)], bins=40, binrange=limits[:2], centers=True)\n",
    "        mplt.plot_image(\n",
    "            image,\n",
    "            x=centers[0],\n",
    "            y=centers[1],\n",
    "            ax=ax,\n",
    "            vmax=None,\n",
    "            **plot_kws\n",
    "        )\n",
    "for i, ax in enumerate(axes[:-1, -1]):\n",
    "    center = coords[axis_slice[1]][~i]\n",
    "    XXP = bd.slice_box(\n",
    "        Xn_zslice, axis=3, \n",
    "        limits=(center - 0.5 * slice_width, center + 0.5 * slice_width)\n",
    "    )\n",
    "    image, centers = bd.histogram(XXP[:, (0, 1)], bins=40, binrange=limits[:2], centers=True)\n",
    "    mplt.plot_image(\n",
    "        image,\n",
    "        x=centers[0],\n",
    "        y=centers[1],\n",
    "        ax=ax,\n",
    "        vmax=None,\n",
    "        **plot_kws\n",
    "    )\n",
    "for i, ax in enumerate(axes[-1, :-1]):\n",
    "    center = coords[axis_slice[0]][i]\n",
    "    XXP = bd.slice_box(\n",
    "        Xn_zslice, axis=2, \n",
    "        limits=(center - 0.5 * slice_width, center + 0.5 * slice_width)\n",
    "    )\n",
    "    image, centers = bd.histogram(XXP[:, (0, 1)], bins=40, binrange=limits[:2], centers=True)\n",
    "    mplt.plot_image(\n",
    "        image,\n",
    "        x=centers[0],\n",
    "        y=centers[1],\n",
    "        ax=ax,\n",
    "        vmax=None,\n",
    "        **plot_kws\n",
    "    )\n",
    "\n",
    "XXP = Xn_zslice\n",
    "image, centers = bd.histogram(XXP[:, (0, 1)], bins=40, binrange=limits[:2], centers=True)\n",
    "mplt.plot_image(\n",
    "    image,\n",
    "    x=centers[0],\n",
    "    y=centers[1],\n",
    "    ax=axes[-1, -1],\n",
    "    vmax=None,\n",
    "    **plot_kws\n",
    ")\n",
    "axes[-2, 0].format(xlabel=\"x\", ylabel=\"x'\")\n",
    "save(f\"x-x'-{axis_slice[0]}-{axis_slice[1]}_zslice{current}_{node}\")\n",
    "plt.show()"
   ]
  },
  {
   "cell_type": "markdown",
   "id": "751a4bad-8037-4e0c-a99c-bfff9f7eb143",
   "metadata": {},
   "source": [
    "#### More plots"
   ]
  },
  {
   "cell_type": "markdown",
   "id": "70bd0d2b-47ab-4eb6-9a06-d9dc6de4edae",
   "metadata": {},
   "source": [
    "Eh, why not load everything into memory. Can change if it's too much."
   ]
  },
  {
   "cell_type": "code",
   "execution_count": null,
   "id": "0c9c1345-1202-4b7b-bd5a-943069e513d0",
   "metadata": {},
   "outputs": [],
   "source": [
    "coords = dict()\n",
    "for current in tqdm(currents_str):\n",
    "    coords[current] = dict()\n",
    "    for node in tqdm(nodes):\n",
    "        coords[current][node] = np.copy(load_bunch(filenames[current][node]))"
   ]
  },
  {
   "cell_type": "markdown",
   "id": "d5f2cfda-c2a4-4ad8-86e0-317c10471a64",
   "metadata": {},
   "source": [
    "Compute limits from the coordinates."
   ]
  },
  {
   "cell_type": "code",
   "execution_count": null,
   "id": "35dc57b5-cb44-4e54-8fa8-93b4b2a0ddd9",
   "metadata": {},
   "outputs": [],
   "source": [
    "limits = mplt.auto_limits(\n",
    "    np.vstack([\n",
    "        coords[current][node] \n",
    "        for current in currents_str\n",
    "        for node in nodes\n",
    "    ]),\n",
    "    zero_center=True,\n",
    ")"
   ]
  },
  {
   "cell_type": "markdown",
   "id": "0ccb56dd-b86b-45d1-8daf-e17ceb94d1df",
   "metadata": {},
   "source": [
    "Compute x-y-z histograms (normalize to unit variance in all directions.)"
   ]
  },
  {
   "cell_type": "code",
   "execution_count": null,
   "id": "ece2f05c-e1e8-45eb-8922-073bbf75a44c",
   "metadata": {},
   "outputs": [],
   "source": [
    "n_bins = 33\n",
    "images = dict()\n",
    "centers = dict()\n",
    "for current in tqdm(currents_str):\n",
    "    images[current] = dict()\n",
    "    centers[current] = dict()\n",
    "    for node in tqdm(nodes):\n",
    "        _X = coords[current][node][:, (0, 2, 4)].copy()\n",
    "        _Sigma = np.cov(_X.T)\n",
    "        _X = _X / np.sqrt(_Sigma.diagonal())\n",
    "        _im, _edges = bd.histogram(_X, bins=n_bins, binrange=(-3.2, 3.2))\n",
    "        _im = _im / np.max(_im)\n",
    "        _centers = [utils.get_bin_centers(e) for e in _edges]\n",
    "        centers[current][node] = _centers\n",
    "        images[current][node] = _im"
   ]
  },
  {
   "cell_type": "markdown",
   "id": "d35acf60-a7f9-4140-b749-49d3014fa8a1",
   "metadata": {},
   "source": [
    "Get slice indices. These are for the unplotted dimensions (z if plotting x-y, y if plotting x-z, x if plotting y-z)."
   ]
  },
  {
   "cell_type": "code",
   "execution_count": null,
   "id": "c6d6b453-c9cc-4c5a-b544-f1f2dd29ecc1",
   "metadata": {},
   "outputs": [],
   "source": [
    "pad = int(0.0 * n_bins)\n",
    "kk = np.arange(pad, n_bins - 1 - pad, 1)\n",
    "kk"
   ]
  },
  {
   "cell_type": "markdown",
   "id": "b1254a88-9f42-4bda-abed-954b33dbf775",
   "metadata": {},
   "source": [
    "Make a bunch of plots. This shows each 2D projection as the third dimension is sliced, at each node for each beam current."
   ]
  },
  {
   "cell_type": "code",
   "execution_count": null,
   "id": "6e6ced6a-b4b9-4363-82ad-b4e90ed8366e",
   "metadata": {
    "scrolled": true,
    "tags": []
   },
   "outputs": [],
   "source": [
    "vmax = 1.0  # normalize color maps across slices\n",
    "_dims = [dims[i] for i in (0, 2, 4)]\n",
    "_units = [units[i] for i in (0, 2, 4)]\n",
    "inds = [(0, 1, 2), (0, 2, 1), (1, 2, 0)]\n",
    "for ind in tqdm(inds):\n",
    "    for k in tqdm(kk):\n",
    "        fig, axes = pplt.subplots(ncols=len(nodes), nrows=len(currents), figwidth=9, share=True, space=0.5)\n",
    "        axes.format(\n",
    "            toplabels=nodes, leftlabels=currents_str, leftlabels_kw=dict(rotation=0), \n",
    "            xticks=[], yticks=[],\n",
    "        )    \n",
    "        for i, current in enumerate(currents_str):\n",
    "            for j, node in enumerate(nodes[:]):\n",
    "                ax = axes[i, j]\n",
    "                _im = images[current][node]  # x-y-z\n",
    "                idx = bi.make_slice(_im.ndim, ind[-1], int(k))\n",
    "                _centers = centers[current][node]\n",
    "                mplt.plot_image(_im[idx], x=_centers[0], y=_centers[1], ax=ax, vmax=vmax)\n",
    "        axes.format(xlabel=r'{}$_n$'.format(_dims[ind[0]]), ylabel=r'{}$_n$'.format(_dims[ind[1]]))\n",
    "        axes.format(suptitle=r'{}$_n$ = {:.2f}'.format(_dims[ind[2]], _centers[2][k]))\n",
    "        axes.format(suptitle_kw=dict(fontweight='normal', fontsize='medium'))\n",
    "        save(f'compare_norm_vmax{vmax}_{_dims[ind[0]]}-{_dims[ind[1]]}_{_dims[ind[2]]}slice{k}')\n",
    "        plt.close()"
   ]
  },
  {
   "cell_type": "markdown",
   "id": "1382173b-90e6-41f6-8d4b-1c257c45d61e",
   "metadata": {},
   "source": [
    "### Corner "
   ]
  },
  {
   "cell_type": "markdown",
   "id": "3f5e331f-e664-4aba-b073-c00a5929b688",
   "metadata": {},
   "source": [
    "Plot all 2D projections of the 6D phase space at each node for each beam current."
   ]
  },
  {
   "cell_type": "code",
   "execution_count": null,
   "id": "378051a4-9d91-4a8a-b787-fb326a3afb39",
   "metadata": {
    "scrolled": true,
    "tags": []
   },
   "outputs": [],
   "source": [
    "for current in currents_str:\n",
    "    for node in nodes:\n",
    "        axes = mplt.corner(\n",
    "            load_bunch(filenames[current][node]), \n",
    "            labels=labels, \n",
    "            kind='hist',\n",
    "            mask_zero=True,\n",
    "            cmap=pplt.Colormap('mono', left=0.065, right=0.9),\n",
    "        )\n",
    "        axes.format(xlabel_kw=dict(fontsize='large'), ylabel_kw=dict(fontsize='large'))\n",
    "        save(f'corner_{current}_{node}')\n",
    "        plt.close()"
   ]
  }
 ],
 "metadata": {
  "kernelspec": {
   "display_name": "Python 3 (ipykernel)",
   "language": "python",
   "name": "python3"
  },
  "language_info": {
   "codemirror_mode": {
    "name": "ipython",
    "version": 3
   },
   "file_extension": ".py",
   "mimetype": "text/x-python",
   "name": "python",
   "nbconvert_exporter": "python",
   "pygments_lexer": "ipython3",
   "version": "3.9.7"
  },
  "toc-autonumbering": true
 },
 "nbformat": 4,
 "nbformat_minor": 5
}
